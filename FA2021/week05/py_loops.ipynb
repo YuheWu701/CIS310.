{
 "cells": [
  {
   "cell_type": "markdown",
   "metadata": {},
   "source": [
    "# Yuhe Wu\n",
    "# wk 5 09/23/2021 - 09/28/2021\n",
    "# Python for loops\n",
    "\n",
    "**General for loop format**\n",
    "```\n",
    "for item in object:\n",
    "    statements to do work\n",
    "```"
   ]
  },
  {
   "cell_type": "code",
   "execution_count": 1,
   "metadata": {},
   "outputs": [],
   "source": [
    "sc = [68,87,89,92,66,84,88,75,89,91,95,94]"
   ]
  },
  {
   "cell_type": "code",
   "execution_count": 2,
   "metadata": {},
   "outputs": [
    {
     "data": {
      "text/plain": [
       "[68, 87, 89, 92, 66, 84, 88, 75, 89, 91, 95, 94]"
      ]
     },
     "execution_count": 2,
     "metadata": {},
     "output_type": "execute_result"
    }
   ],
   "source": [
    "sc"
   ]
  },
  {
   "cell_type": "code",
   "execution_count": 3,
   "metadata": {},
   "outputs": [
    {
     "name": "stdout",
     "output_type": "stream",
     "text": [
      "68\n",
      "87\n",
      "89\n",
      "92\n",
      "66\n",
      "84\n",
      "88\n",
      "75\n",
      "89\n",
      "91\n",
      "95\n",
      "94\n"
     ]
    }
   ],
   "source": [
    "for n in sc:\n",
    "    print(n)"
   ]
  },
  {
   "cell_type": "code",
   "execution_count": 4,
   "metadata": {},
   "outputs": [
    {
     "name": "stdout",
     "output_type": "stream",
     "text": [
      "68\n",
      "92\n",
      "66\n",
      "84\n",
      "88\n",
      "94\n"
     ]
    }
   ],
   "source": [
    "for num in sc:\n",
    "    if num % 2 == 0:\n",
    "        print(num)"
   ]
  },
  {
   "cell_type": "code",
   "execution_count": 5,
   "metadata": {},
   "outputs": [
    {
     "data": {
      "text/plain": [
       "0"
      ]
     },
     "execution_count": 5,
     "metadata": {},
     "output_type": "execute_result"
    }
   ],
   "source": [
    "4 % 2"
   ]
  },
  {
   "cell_type": "code",
   "execution_count": 6,
   "metadata": {},
   "outputs": [
    {
     "data": {
      "text/plain": [
       "1"
      ]
     },
     "execution_count": 6,
     "metadata": {},
     "output_type": "execute_result"
    }
   ],
   "source": [
    "5 % 2"
   ]
  },
  {
   "cell_type": "code",
   "execution_count": 7,
   "metadata": {},
   "outputs": [
    {
     "name": "stdout",
     "output_type": "stream",
     "text": [
      "87\n",
      "89\n",
      "75\n",
      "89\n",
      "91\n",
      "95\n"
     ]
    }
   ],
   "source": [
    "for num in sc:\n",
    "    if num % 2 == 0:\n",
    "        pass\n",
    "    else:\n",
    "        print(num)"
   ]
  },
  {
   "cell_type": "code",
   "execution_count": 8,
   "metadata": {},
   "outputs": [
    {
     "name": "stdout",
     "output_type": "stream",
     "text": [
      "68 Even score\n",
      "87 Odd score\n",
      "89 Odd score\n",
      "92 Even score\n",
      "66 Even score\n",
      "84 Even score\n",
      "88 Even score\n",
      "75 Odd score\n",
      "89 Odd score\n",
      "91 Odd score\n",
      "95 Odd score\n",
      "94 Even score\n"
     ]
    }
   ],
   "source": [
    "for num in sc:\n",
    "    if num % 2 == 0:\n",
    "        print(num, 'Even score')\n",
    "    else:\n",
    "        print(num, 'Odd score')"
   ]
  },
  {
   "cell_type": "code",
   "execution_count": 9,
   "metadata": {},
   "outputs": [
    {
     "data": {
      "text/plain": [
       "[68, 87, 89, 92, 66, 84, 88, 75, 89, 91, 95, 94]"
      ]
     },
     "execution_count": 9,
     "metadata": {},
     "output_type": "execute_result"
    }
   ],
   "source": [
    "sc"
   ]
  },
  {
   "cell_type": "code",
   "execution_count": 10,
   "metadata": {},
   "outputs": [
    {
     "name": "stdout",
     "output_type": "stream",
     "text": [
      "sum =  1018\n"
     ]
    }
   ],
   "source": [
    "# get the sum of the scores\n",
    "s = 0\n",
    "for num in sc:\n",
    "    s = s + num\n",
    "    \n",
    "print('sum = ', s)"
   ]
  },
  {
   "cell_type": "code",
   "execution_count": 11,
   "metadata": {},
   "outputs": [
    {
     "data": {
      "text/plain": [
       "1018"
      ]
     },
     "execution_count": 11,
     "metadata": {},
     "output_type": "execute_result"
    }
   ],
   "source": [
    "sum(sc)"
   ]
  },
  {
   "cell_type": "code",
   "execution_count": 12,
   "metadata": {},
   "outputs": [
    {
     "data": {
      "text/plain": [
       "12"
      ]
     },
     "execution_count": 12,
     "metadata": {},
     "output_type": "execute_result"
    }
   ],
   "source": [
    "len(sc)"
   ]
  },
  {
   "cell_type": "code",
   "execution_count": 13,
   "metadata": {},
   "outputs": [
    {
     "name": "stdout",
     "output_type": "stream",
     "text": [
      "84.83333333333333\n"
     ]
    }
   ],
   "source": [
    "avg = s / len(sc)\n",
    "print(avg)"
   ]
  },
  {
   "cell_type": "code",
   "execution_count": 14,
   "metadata": {},
   "outputs": [
    {
     "name": "stdout",
     "output_type": "stream",
     "text": [
      "84.83333333333333\n"
     ]
    }
   ],
   "source": [
    "print(sum(sc)/len(sc))"
   ]
  },
  {
   "cell_type": "code",
   "execution_count": 15,
   "metadata": {},
   "outputs": [
    {
     "name": "stdout",
     "output_type": "stream",
     "text": [
      "I\n",
      " \n",
      "a\n",
      "m\n",
      " \n",
      "a\n",
      " \n",
      "s\n",
      "t\n",
      "u\n",
      "d\n",
      "e\n",
      "n\n",
      "t\n",
      " \n",
      "i\n",
      "n\n",
      " \n",
      "C\n",
      "I\n",
      "S\n",
      "3\n",
      "1\n",
      "0\n"
     ]
    }
   ],
   "source": [
    "for l in 'I am a student in CIS310':\n",
    "    print(l)"
   ]
  },
  {
   "cell_type": "code",
   "execution_count": 16,
   "metadata": {},
   "outputs": [
    {
     "name": "stdout",
     "output_type": "stream",
     "text": [
      "5\n",
      "7\n",
      "8\n",
      "9\n",
      "10\n",
      "15\n"
     ]
    }
   ],
   "source": [
    "t = (5,7,8,9,10,15)\n",
    "\n",
    "for v in t:\n",
    "    print(v)"
   ]
  },
  {
   "cell_type": "code",
   "execution_count": 17,
   "metadata": {},
   "outputs": [],
   "source": [
    "lsl = [(10,20),(30,40),(50,60),(70,80),(90,100)]"
   ]
  },
  {
   "cell_type": "code",
   "execution_count": 18,
   "metadata": {},
   "outputs": [
    {
     "name": "stdout",
     "output_type": "stream",
     "text": [
      "(10, 20)\n",
      "(30, 40)\n",
      "(50, 60)\n",
      "(70, 80)\n",
      "(90, 100)\n"
     ]
    }
   ],
   "source": [
    "for t in lsl:\n",
    "    print(t)"
   ]
  },
  {
   "cell_type": "code",
   "execution_count": 19,
   "metadata": {},
   "outputs": [
    {
     "name": "stdout",
     "output_type": "stream",
     "text": [
      "10\n",
      "30\n",
      "50\n",
      "70\n",
      "90\n"
     ]
    }
   ],
   "source": [
    "for (t1,t2) in lsl:\n",
    "    print(t1)"
   ]
  },
  {
   "cell_type": "code",
   "execution_count": 20,
   "metadata": {},
   "outputs": [
    {
     "name": "stdout",
     "output_type": "stream",
     "text": [
      "20\n",
      "40\n",
      "60\n",
      "80\n",
      "100\n"
     ]
    }
   ],
   "source": [
    "for (t1,t2) in lsl:\n",
    "    print(t2)"
   ]
  },
  {
   "cell_type": "code",
   "execution_count": 21,
   "metadata": {},
   "outputs": [],
   "source": [
    "d = {'brand':'Ford', 'Model':'Mustang', 'Year':1964}"
   ]
  },
  {
   "cell_type": "code",
   "execution_count": 22,
   "metadata": {},
   "outputs": [
    {
     "data": {
      "text/plain": [
       "{'brand': 'Ford', 'Model': 'Mustang', 'Year': 1964}"
      ]
     },
     "execution_count": 22,
     "metadata": {},
     "output_type": "execute_result"
    }
   ],
   "source": [
    "d"
   ]
  },
  {
   "cell_type": "code",
   "execution_count": 23,
   "metadata": {},
   "outputs": [
    {
     "data": {
      "text/plain": [
       "dict_items([('brand', 'Ford'), ('Model', 'Mustang'), ('Year', 1964)])"
      ]
     },
     "execution_count": 23,
     "metadata": {},
     "output_type": "execute_result"
    }
   ],
   "source": [
    "d.items()"
   ]
  },
  {
   "cell_type": "code",
   "execution_count": 24,
   "metadata": {},
   "outputs": [
    {
     "data": {
      "text/plain": [
       "dict_values(['Ford', 'Mustang', 1964])"
      ]
     },
     "execution_count": 24,
     "metadata": {},
     "output_type": "execute_result"
    }
   ],
   "source": [
    "d.values()"
   ]
  },
  {
   "cell_type": "code",
   "execution_count": 25,
   "metadata": {},
   "outputs": [
    {
     "data": {
      "text/plain": [
       "dict_keys(['brand', 'Model', 'Year'])"
      ]
     },
     "execution_count": 25,
     "metadata": {},
     "output_type": "execute_result"
    }
   ],
   "source": [
    "d.keys()"
   ]
  },
  {
   "cell_type": "code",
   "execution_count": 26,
   "metadata": {},
   "outputs": [],
   "source": [
    "t = tuple(d.items())"
   ]
  },
  {
   "cell_type": "code",
   "execution_count": 27,
   "metadata": {},
   "outputs": [
    {
     "data": {
      "text/plain": [
       "(('brand', 'Ford'), ('Model', 'Mustang'), ('Year', 1964))"
      ]
     },
     "execution_count": 27,
     "metadata": {},
     "output_type": "execute_result"
    }
   ],
   "source": [
    "t"
   ]
  },
  {
   "cell_type": "code",
   "execution_count": 28,
   "metadata": {},
   "outputs": [
    {
     "name": "stdout",
     "output_type": "stream",
     "text": [
      "brand\n",
      "Model\n",
      "Year\n"
     ]
    }
   ],
   "source": [
    "for item in d:\n",
    "    print(item)"
   ]
  },
  {
   "cell_type": "code",
   "execution_count": 29,
   "metadata": {},
   "outputs": [
    {
     "name": "stdout",
     "output_type": "stream",
     "text": [
      "brand Ford\n",
      "Model Mustang\n",
      "Year 1964\n"
     ]
    }
   ],
   "source": [
    "for (k,v) in d.items():\n",
    "    print(k,v)"
   ]
  },
  {
   "cell_type": "code",
   "execution_count": 30,
   "metadata": {},
   "outputs": [
    {
     "name": "stdout",
     "output_type": "stream",
     "text": [
      "brand\n",
      "Model\n",
      "Year\n"
     ]
    }
   ],
   "source": [
    "for k in d.keys():\n",
    "    print(k)"
   ]
  },
  {
   "cell_type": "code",
   "execution_count": 31,
   "metadata": {},
   "outputs": [
    {
     "name": "stdout",
     "output_type": "stream",
     "text": [
      "Ford\n",
      "Mustang\n",
      "1964\n"
     ]
    }
   ],
   "source": [
    "for v in d.values():\n",
    "    print(v)"
   ]
  },
  {
   "cell_type": "code",
   "execution_count": 32,
   "metadata": {},
   "outputs": [
    {
     "name": "stdout",
     "output_type": "stream",
     "text": [
      "('brand', 'Ford')\n",
      "('Model', 'Mustang')\n",
      "('Year', 1964)\n"
     ]
    }
   ],
   "source": [
    "for t in d.items():\n",
    "    print(t)"
   ]
  },
  {
   "cell_type": "code",
   "execution_count": 33,
   "metadata": {},
   "outputs": [
    {
     "data": {
      "text/plain": [
       "[5, 6, 7, 8]"
      ]
     },
     "execution_count": 33,
     "metadata": {},
     "output_type": "execute_result"
    }
   ],
   "source": [
    "sorted([7,5,6,8])"
   ]
  },
  {
   "cell_type": "code",
   "execution_count": 34,
   "metadata": {},
   "outputs": [],
   "source": [
    "d1 = {'k1':7,'k2':5,'k3':4,'k4':6}"
   ]
  },
  {
   "cell_type": "code",
   "execution_count": 35,
   "metadata": {},
   "outputs": [
    {
     "data": {
      "text/plain": [
       "dict_values([7, 5, 4, 6])"
      ]
     },
     "execution_count": 35,
     "metadata": {},
     "output_type": "execute_result"
    }
   ],
   "source": [
    "d1.values()"
   ]
  },
  {
   "cell_type": "code",
   "execution_count": 36,
   "metadata": {},
   "outputs": [
    {
     "name": "stdout",
     "output_type": "stream",
     "text": [
      "4\n",
      "5\n",
      "6\n",
      "7\n"
     ]
    }
   ],
   "source": [
    "for v in sorted(d1.values()):\n",
    "    print(v)"
   ]
  },
  {
   "cell_type": "code",
   "execution_count": 37,
   "metadata": {},
   "outputs": [
    {
     "name": "stdout",
     "output_type": "stream",
     "text": [
      "Apple\n",
      "Grape\n",
      "Orange\n",
      "Banana\n",
      "Cherry\n"
     ]
    }
   ],
   "source": [
    "#break and continue\n",
    "fruits = ['Apple','Grape','Orange','Banana','Cherry']\n",
    "for f in fruits:\n",
    "    print(f)"
   ]
  },
  {
   "cell_type": "code",
   "execution_count": 38,
   "metadata": {},
   "outputs": [
    {
     "name": "stdout",
     "output_type": "stream",
     "text": [
      "Apple\n",
      "Grape\n",
      "Orange\n",
      "Banana\n"
     ]
    }
   ],
   "source": [
    "for f in fruits:\n",
    "    print(f)\n",
    "    if f == 'Banana':\n",
    "        break"
   ]
  },
  {
   "cell_type": "code",
   "execution_count": 39,
   "metadata": {},
   "outputs": [
    {
     "name": "stdout",
     "output_type": "stream",
     "text": [
      "Apple\n",
      "Grape\n",
      "Orange\n"
     ]
    }
   ],
   "source": [
    "for f in fruits:\n",
    "    if f == 'Banana':\n",
    "        break\n",
    "    else:\n",
    "        print(f)\n",
    "        "
   ]
  },
  {
   "cell_type": "code",
   "execution_count": 40,
   "metadata": {},
   "outputs": [
    {
     "name": "stdout",
     "output_type": "stream",
     "text": [
      "Apple\n",
      "Grape\n",
      "Orange\n"
     ]
    }
   ],
   "source": [
    "for f in fruits:\n",
    "    if f == 'Banana':\n",
    "        break\n",
    "    print(f)"
   ]
  },
  {
   "cell_type": "code",
   "execution_count": 41,
   "metadata": {},
   "outputs": [
    {
     "data": {
      "text/plain": [
       "['Apple', 'Grape', 'Orange', 'Banana', 'Cherry']"
      ]
     },
     "execution_count": 41,
     "metadata": {},
     "output_type": "execute_result"
    }
   ],
   "source": [
    "fruits"
   ]
  },
  {
   "cell_type": "code",
   "execution_count": 42,
   "metadata": {},
   "outputs": [
    {
     "name": "stdout",
     "output_type": "stream",
     "text": [
      "Apple\n",
      "Grape\n",
      "Orange\n",
      "Cherry\n"
     ]
    }
   ],
   "source": [
    "#print evenything except banana\n",
    "#continue keyword\n",
    "for f in fruits:\n",
    "    if f == 'Banana':\n",
    "        continue\n",
    "    print(f)"
   ]
  },
  {
   "cell_type": "code",
   "execution_count": 43,
   "metadata": {},
   "outputs": [
    {
     "name": "stdout",
     "output_type": "stream",
     "text": [
      "Apple\n",
      "Grape\n",
      "Orange\n",
      "Cherry\n"
     ]
    }
   ],
   "source": [
    "for f in fruits:\n",
    "    if f == 'Banana':\n",
    "        pass\n",
    "    else:\n",
    "        print(f)"
   ]
  },
  {
   "cell_type": "code",
   "execution_count": 44,
   "metadata": {},
   "outputs": [
    {
     "data": {
      "text/plain": [
       "range(0, 6)"
      ]
     },
     "execution_count": 44,
     "metadata": {},
     "output_type": "execute_result"
    }
   ],
   "source": [
    "#range\n",
    "range(6)"
   ]
  },
  {
   "cell_type": "code",
   "execution_count": 45,
   "metadata": {},
   "outputs": [
    {
     "data": {
      "text/plain": [
       "[0, 1, 2, 3, 4, 5]"
      ]
     },
     "execution_count": 45,
     "metadata": {},
     "output_type": "execute_result"
    }
   ],
   "source": [
    "list(range(6))"
   ]
  },
  {
   "cell_type": "code",
   "execution_count": 46,
   "metadata": {},
   "outputs": [
    {
     "data": {
      "text/plain": [
       "[0, 1, 2, 3, 4, 5, 6, 7, 8, 9, 10, 11, 12, 13, 14, 15, 16, 17, 18, 19]"
      ]
     },
     "execution_count": 46,
     "metadata": {},
     "output_type": "execute_result"
    }
   ],
   "source": [
    "list(range(20))"
   ]
  },
  {
   "cell_type": "code",
   "execution_count": 47,
   "metadata": {},
   "outputs": [
    {
     "name": "stdout",
     "output_type": "stream",
     "text": [
      "0\n",
      "1\n",
      "2\n",
      "3\n",
      "4\n",
      "5\n"
     ]
    }
   ],
   "source": [
    "for num in range(6):\n",
    "    print(num)"
   ]
  },
  {
   "cell_type": "code",
   "execution_count": 48,
   "metadata": {},
   "outputs": [
    {
     "name": "stdout",
     "output_type": "stream",
     "text": [
      "2\n",
      "3\n",
      "4\n",
      "5\n",
      "6\n",
      "7\n",
      "8\n",
      "9\n"
     ]
    }
   ],
   "source": [
    "for num in range(2,10):\n",
    "    print(num)"
   ]
  },
  {
   "cell_type": "code",
   "execution_count": 49,
   "metadata": {},
   "outputs": [
    {
     "name": "stdout",
     "output_type": "stream",
     "text": [
      "1\n",
      "4\n",
      "7\n",
      "10\n",
      "13\n",
      "16\n",
      "19\n",
      "22\n",
      "25\n",
      "28\n"
     ]
    }
   ],
   "source": [
    "for num in range(1,30,3):\n",
    "    print(num)"
   ]
  },
  {
   "cell_type": "code",
   "execution_count": 50,
   "metadata": {},
   "outputs": [
    {
     "name": "stdout",
     "output_type": "stream",
     "text": [
      "1\n",
      "4\n",
      "7\n",
      "10\n",
      "13\n",
      "16\n",
      "19\n",
      "22\n",
      "25\n",
      "28\n",
      "Finish printing numbers in the for loop\n"
     ]
    }
   ],
   "source": [
    "#else\n",
    "for num in range(1,30,3):\n",
    "    print(num)\n",
    "else:\n",
    "    print('Finish printing numbers in the for loop')"
   ]
  },
  {
   "cell_type": "code",
   "execution_count": 51,
   "metadata": {},
   "outputs": [
    {
     "name": "stdout",
     "output_type": "stream",
     "text": [
      "red Apple\n",
      "red Grape\n",
      "red Orange\n",
      "red Cherry\n",
      "small Apple\n",
      "small Grape\n",
      "small Orange\n",
      "small Banana\n",
      "small Cherry\n",
      "large Apple\n",
      "large Grape\n",
      "large Orange\n",
      "large Banana\n",
      "large Cherry\n",
      "tasty Apple\n",
      "tasty Grape\n",
      "tasty Orange\n",
      "tasty Banana\n",
      "tasty Cherry\n"
     ]
    }
   ],
   "source": [
    "#nested for loop\n",
    "des = ['red','small','large','tasty']\n",
    "fruits = ['Apple','Grape','Orange','Banana','Cherry']\n",
    "\n",
    "for d in des:  #outer for loop\n",
    "    for f in fruits:  #innner for loop\n",
    "        if d == 'red' and f == 'Banana':\n",
    "            continue\n",
    "        print(d,f)"
   ]
  },
  {
   "cell_type": "code",
   "execution_count": 52,
   "metadata": {},
   "outputs": [
    {
     "name": "stdout",
     "output_type": "stream",
     "text": [
      "red Apple\n",
      "red Grape\n",
      "red Orange\n",
      "red Cherry\n",
      "==================\n",
      "small Apple\n",
      "small Grape\n",
      "small Orange\n",
      "small Banana\n",
      "small Cherry\n",
      "==================\n",
      "large Apple\n",
      "large Grape\n",
      "large Orange\n",
      "large Banana\n",
      "large Cherry\n",
      "==================\n",
      "tasty Apple\n",
      "tasty Grape\n",
      "tasty Orange\n",
      "tasty Banana\n",
      "tasty Cherry\n",
      "==================\n"
     ]
    }
   ],
   "source": [
    "des = ['red','small','large','tasty']\n",
    "fruits = ['Apple','Grape','Orange','Banana','Cherry']\n",
    "\n",
    "for d in des:  #outer for loop\n",
    "    for f in fruits:  #innner for loop\n",
    "        if d == 'red' and f == 'Banana':\n",
    "            continue\n",
    "        print(d,f)\n",
    "    print('==================')"
   ]
  },
  {
   "cell_type": "code",
   "execution_count": 53,
   "metadata": {},
   "outputs": [
    {
     "name": "stdout",
     "output_type": "stream",
     "text": [
      "red\n",
      "green\n",
      "blue\n",
      "purple\n"
     ]
    }
   ],
   "source": [
    "#how to loop with index?\n",
    "cols = [\"red\",\"green\",\"blue\",\"purple\"]\n",
    "for c in cols:\n",
    "    print(c)"
   ]
  },
  {
   "cell_type": "code",
   "execution_count": 54,
   "metadata": {},
   "outputs": [
    {
     "data": {
      "text/plain": [
       "4"
      ]
     },
     "execution_count": 54,
     "metadata": {},
     "output_type": "execute_result"
    }
   ],
   "source": [
    "len(cols)"
   ]
  },
  {
   "cell_type": "code",
   "execution_count": 55,
   "metadata": {},
   "outputs": [
    {
     "data": {
      "text/plain": [
       "range(0, 4)"
      ]
     },
     "execution_count": 55,
     "metadata": {},
     "output_type": "execute_result"
    }
   ],
   "source": [
    "range(len(cols))"
   ]
  },
  {
   "cell_type": "code",
   "execution_count": 56,
   "metadata": {},
   "outputs": [
    {
     "data": {
      "text/plain": [
       "[0, 1, 2, 3]"
      ]
     },
     "execution_count": 56,
     "metadata": {},
     "output_type": "execute_result"
    }
   ],
   "source": [
    "list(range(len(cols)))"
   ]
  },
  {
   "cell_type": "code",
   "execution_count": 57,
   "metadata": {},
   "outputs": [
    {
     "name": "stdout",
     "output_type": "stream",
     "text": [
      "0 red\n",
      "1 green\n",
      "2 blue\n",
      "3 purple\n"
     ]
    }
   ],
   "source": [
    "cols = [\"red\",\"green\",\"blue\",\"purple\"]\n",
    "for i in range(len(cols)):\n",
    "    print(i,cols[i])"
   ]
  },
  {
   "cell_type": "code",
   "execution_count": 58,
   "metadata": {},
   "outputs": [
    {
     "name": "stdout",
     "output_type": "stream",
     "text": [
      "Name 1: Washington\n",
      "Name 2: Adams\n",
      "Name 3: Jefferson\n",
      "Name 4: Madison\n",
      "Name 5: Monroe\n",
      "Name 6: Jackson\n"
     ]
    }
   ],
   "source": [
    "n = [\"Washington\",\"Adams\",\"Jefferson\",\"Madison\",\"Monroe\",\"Jackson\"]\n",
    "for i in range(len(n)):\n",
    "    print(\"Name {}: {}\".format(i+1,n[i]))"
   ]
  },
  {
   "cell_type": "code",
   "execution_count": 59,
   "metadata": {},
   "outputs": [
    {
     "name": "stdout",
     "output_type": "stream",
     "text": [
      "Name 1 :  Washington\n",
      "Name 2 :  Adams\n",
      "Name 3 :  Jefferson\n",
      "Name 4 :  Madison\n",
      "Name 5 :  Monroe\n",
      "Name 6 :  Jackson\n"
     ]
    }
   ],
   "source": [
    "for i in range(len(n)):\n",
    "    print('Name',i+1,': ',n[i])"
   ]
  },
  {
   "cell_type": "code",
   "execution_count": 60,
   "metadata": {},
   "outputs": [
    {
     "name": "stdout",
     "output_type": "stream",
     "text": [
      "Name 1: Washington\n",
      "Name 2: Adams\n",
      "Name 3: Jefferson\n",
      "Name 4: Madison\n",
      "Name 5: Monroe\n",
      "Name 6: Jackson\n"
     ]
    }
   ],
   "source": [
    "#enumerate\n",
    "for idx,name in enumerate(n):\n",
    "    print(\"Name {}: {}\".format(idx+1,name))"
   ]
  },
  {
   "cell_type": "code",
   "execution_count": 61,
   "metadata": {},
   "outputs": [
    {
     "name": "stdout",
     "output_type": "stream",
     "text": [
      "Name 1: Washington\n",
      "Name 2: Adams\n",
      "Name 3: Jefferson\n",
      "Name 4: Madison\n",
      "Name 5: Monroe\n",
      "Name 6: Jackson\n"
     ]
    }
   ],
   "source": [
    "for idx,name in enumerate(n,start=1):\n",
    "    print(\"Name {}: {}\".format(idx,name))"
   ]
  },
  {
   "cell_type": "code",
   "execution_count": 62,
   "metadata": {},
   "outputs": [
    {
     "name": "stdout",
     "output_type": "stream",
     "text": [
      "20.0% red\n",
      "30.0% green\n",
      "25.0% blue\n",
      "10.0% purple\n"
     ]
    }
   ],
   "source": [
    "cols = [\"red\",\"green\",\"blue\",\"purple\"]\n",
    "r = [0.2,0.3,0.25,0.1]\n",
    "\n",
    "for i, color in enumerate(cols):\n",
    "    print(\"{}% {}\".format(r[i]* 100,color))"
   ]
  },
  {
   "cell_type": "code",
   "execution_count": 63,
   "metadata": {},
   "outputs": [
    {
     "name": "stdout",
     "output_type": "stream",
     "text": [
      "20.0% red\n",
      "30.0% green\n",
      "25.0% blue\n",
      "10.0% purple\n"
     ]
    }
   ],
   "source": [
    "cols = [\"red\",\"green\",\"blue\",\"purple\"]\n",
    "r = [0.2,0.3,0.25,0.1]\n",
    "\n",
    "for i, color in enumerate(cols):\n",
    "    ratio = r[i]\n",
    "    print(\"{}% {}\".format(ratio* 100,color))"
   ]
  },
  {
   "cell_type": "code",
   "execution_count": 64,
   "metadata": {},
   "outputs": [
    {
     "name": "stdout",
     "output_type": "stream",
     "text": [
      "[('red', 0.2), ('green', 0.3), ('blue', 0.25), ('purple', 0.1)]\n"
     ]
    }
   ],
   "source": [
    "#zip\n",
    "colors = [\"red\",\"green\",\"blue\",\"purple\"]\n",
    "ratios = [0.2,0.3,0.25,0.1]\n",
    "\n",
    "z = zip(colors,ratios)\n",
    "\n",
    "print(list(z))"
   ]
  },
  {
   "cell_type": "code",
   "execution_count": 65,
   "metadata": {},
   "outputs": [
    {
     "name": "stdout",
     "output_type": "stream",
     "text": [
      "[('red', 0.2), ('green', 0.3), ('blue', 0.25), ('purple', 0.1)]\n"
     ]
    }
   ],
   "source": [
    "#zip\n",
    "colors = [\"red\",\"green\",\"blue\",\"purple\"]\n",
    "ratios = [0.2,0.3,0.25,0.1]\n",
    "\n",
    "z = zip(colors,ratios)\n",
    "\n",
    "print(list(z))"
   ]
  },
  {
   "cell_type": "code",
   "execution_count": 66,
   "metadata": {},
   "outputs": [
    {
     "name": "stdout",
     "output_type": "stream",
     "text": [
      "20.0% red\n",
      "30.0% green\n",
      "25.0% blue\n",
      "10.0% purple\n"
     ]
    }
   ],
   "source": [
    "colors = [\"red\",\"green\",\"blue\",\"purple\"]\n",
    "ratios = [0.2,0.3,0.25,0.1]\n",
    "for color, ratio in zip(colors,ratios):\n",
    "    print('{}% {}'.format(ratio * 100,color))"
   ]
  },
  {
   "cell_type": "code",
   "execution_count": 67,
   "metadata": {},
   "outputs": [
    {
     "data": {
      "text/plain": [
       "<zip at 0x1b0c6457948>"
      ]
     },
     "execution_count": 67,
     "metadata": {},
     "output_type": "execute_result"
    }
   ],
   "source": [
    "a = (\"John\", \"Charies\", \"Mike\")\n",
    "b = (\"Jenny\", \"Christy\", \"Monica\")\n",
    "\n",
    "s = zip(a,b)\n",
    "s"
   ]
  },
  {
   "cell_type": "code",
   "execution_count": 68,
   "metadata": {},
   "outputs": [
    {
     "name": "stdout",
     "output_type": "stream",
     "text": [
      "(('John', 'Jenny'), ('Charies', 'Christy'), ('Mike', 'Monica'))\n"
     ]
    }
   ],
   "source": [
    "print(tuple(s))"
   ]
  },
  {
   "cell_type": "code",
   "execution_count": null,
   "metadata": {},
   "outputs": [],
   "source": []
  }
 ],
 "metadata": {
  "kernelspec": {
   "display_name": "Python 3.7 - default",
   "language": "python",
   "name": "py37_default"
  },
  "language_info": {
   "codemirror_mode": {
    "name": "ipython",
    "version": 3
   },
   "file_extension": ".py",
   "mimetype": "text/x-python",
   "name": "python",
   "nbconvert_exporter": "python",
   "pygments_lexer": "ipython3",
   "version": "3.7.7"
  }
 },
 "nbformat": 4,
 "nbformat_minor": 4
}
