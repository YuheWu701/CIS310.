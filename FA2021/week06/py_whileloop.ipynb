{
 "cells": [
  {
   "cell_type": "markdown",
   "metadata": {},
   "source": [
    "# Yuhe Wu\n",
    "# week6: 09/30/2021\n",
    "# Python while loops"
   ]
  },
  {
   "cell_type": "markdown",
   "metadata": {},
   "source": [
    "### The general format of while loops:\n",
    "\n",
    "<code> while test:\n",
    "            statements </code>\n",
    "            "
   ]
  },
  {
   "cell_type": "code",
   "execution_count": 1,
   "metadata": {},
   "outputs": [
    {
     "name": "stdout",
     "output_type": "stream",
     "text": [
      "1\n",
      "2\n",
      "3\n",
      "4\n",
      "5\n",
      "6\n"
     ]
    }
   ],
   "source": [
    "num = 1\n",
    "while num <= 6:\n",
    "    print(num)\n",
    "    num = num + 1"
   ]
  },
  {
   "cell_type": "code",
   "execution_count": 2,
   "metadata": {},
   "outputs": [
    {
     "name": "stdout",
     "output_type": "stream",
     "text": [
      "1\n",
      "2\n",
      "3\n",
      "4\n",
      "5\n",
      "6\n"
     ]
    }
   ],
   "source": [
    "num = 1\n",
    "while num <= 6:\n",
    "    print(num)\n",
    "    num+=1  #if forget, loop forever"
   ]
  },
  {
   "cell_type": "code",
   "execution_count": 3,
   "metadata": {},
   "outputs": [
    {
     "name": "stdout",
     "output_type": "stream",
     "text": [
      "num =  1\n",
      "num is less than 6, now adding 1 to num after this\n",
      "num =  2\n",
      "num is less than 6, now adding 1 to num after this\n",
      "num =  3\n",
      "num is less than 6, now adding 1 to num after this\n",
      "num =  4\n",
      "num is less than 6, now adding 1 to num after this\n",
      "num =  5\n",
      "num is less than 6, now adding 1 to num after this\n"
     ]
    }
   ],
   "source": [
    "num = 1\n",
    "while num < 6:\n",
    "    print('num = ', num)\n",
    "    print('num is less than 6, now adding 1 to num after this')\n",
    "    num+=1"
   ]
  },
  {
   "cell_type": "code",
   "execution_count": 5,
   "metadata": {},
   "outputs": [
    {
     "name": "stdout",
     "output_type": "stream",
     "text": [
      "num =  1\n",
      "num is less than 6, now adding 1 to num after this\n",
      "num =  2\n",
      "num is less than 6, now adding 1 to num after this\n",
      "num =  3\n",
      "num is less than 6, now adding 1 to num after this\n",
      "num =  4\n",
      "num is less than 6, now adding 1 to num after this\n",
      "num =  5\n",
      "num is less than 6, now adding 1 to num after this\n",
      "num =  6  stop the while loop\n"
     ]
    }
   ],
   "source": [
    "#else\n",
    "num = 1\n",
    "while num < 6:\n",
    "    print('num = ', num)\n",
    "    print('num is less than 6, now adding 1 to num after this')\n",
    "    num+=1\n",
    "else:\n",
    "    print('num = ', num, ' stop the while loop')"
   ]
  },
  {
   "cell_type": "code",
   "execution_count": 8,
   "metadata": {},
   "outputs": [
    {
     "name": "stdout",
     "output_type": "stream",
     "text": [
      "sum =  55 the sum of  10  numbers\n"
     ]
    }
   ],
   "source": [
    "n = 10\n",
    "i = 0\n",
    "sum = 0\n",
    "\n",
    "while i <= n:\n",
    "    sum = sum + i\n",
    "    i+=1 #update counter\n",
    "\n",
    "print('sum = ', sum, 'the sum of ', n, ' numbers')"
   ]
  },
  {
   "cell_type": "code",
   "execution_count": 10,
   "metadata": {},
   "outputs": [
    {
     "name": "stdout",
     "output_type": "stream",
     "text": [
      "9\n",
      "[1, 2, 3, 4, 5, 6, 7, 8]\n",
      "8\n",
      "[1, 2, 3, 4, 5, 6, 7]\n",
      "7\n",
      "[1, 2, 3, 4, 5, 6]\n",
      "6\n",
      "[1, 2, 3, 4, 5]\n",
      "5\n",
      "[1, 2, 3, 4]\n",
      "4\n",
      "[1, 2, 3]\n",
      "3\n",
      "[1, 2]\n",
      "2\n",
      "[1]\n",
      "1\n",
      "[]\n"
     ]
    }
   ],
   "source": [
    "a = [1,2,3,4,5,6,7,8,9]\n",
    "\n",
    "while a: \n",
    "    print(a.pop())\n",
    "    print(a)"
   ]
  },
  {
   "cell_type": "code",
   "execution_count": 11,
   "metadata": {},
   "outputs": [
    {
     "data": {
      "text/plain": [
       "[]"
      ]
     },
     "execution_count": 11,
     "metadata": {},
     "output_type": "execute_result"
    }
   ],
   "source": [
    "a"
   ]
  },
  {
   "cell_type": "code",
   "execution_count": 14,
   "metadata": {},
   "outputs": [
    {
     "name": "stdout",
     "output_type": "stream",
     "text": [
      "1\n",
      "[1, 2, 3, 4, 5, 6, 7, 8, 9]\n",
      "2\n",
      "[1, 2, 3, 4, 5, 6, 7, 8, 9]\n",
      "3\n",
      "[1, 2, 3, 4, 5, 6, 7, 8, 9]\n",
      "4\n",
      "[1, 2, 3, 4, 5, 6, 7, 8, 9]\n",
      "5\n",
      "[1, 2, 3, 4, 5, 6, 7, 8, 9]\n",
      "6\n",
      "[1, 2, 3, 4, 5, 6, 7, 8, 9]\n",
      "7\n",
      "[1, 2, 3, 4, 5, 6, 7, 8, 9]\n",
      "8\n",
      "[1, 2, 3, 4, 5, 6, 7, 8, 9]\n",
      "9\n",
      "[1, 2, 3, 4, 5, 6, 7, 8, 9]\n"
     ]
    }
   ],
   "source": [
    "a = [1,2,3,4,5,6,7,8,9]\n",
    "i = 0\n",
    "\n",
    "while i < len(a):\n",
    "    print(a[i])\n",
    "    i+=1\n",
    "    print(a)\n",
    "    "
   ]
  },
  {
   "cell_type": "code",
   "execution_count": 21,
   "metadata": {},
   "outputs": [
    {
     "name": "stdout",
     "output_type": "stream",
     "text": [
      "2\n",
      "4\n",
      "6\n",
      "8\n"
     ]
    }
   ],
   "source": [
    "a = [1,2,3,4,5,6,7,8,9]\n",
    "i = 0\n",
    "\n",
    "while i < len(a):\n",
    "    if a[i]%2 == 0:\n",
    "        print(a[i])\n",
    "    i+=1\n",
    "    "
   ]
  },
  {
   "cell_type": "code",
   "execution_count": 22,
   "metadata": {},
   "outputs": [
    {
     "name": "stdout",
     "output_type": "stream",
     "text": [
      "1\n",
      "3\n",
      "5\n",
      "7\n",
      "9\n"
     ]
    }
   ],
   "source": [
    "a = [1,2,3,4,5,6,7,8,9]\n",
    "i = 0\n",
    "\n",
    "while i < len(a):\n",
    "    if a[i]%2 != 0:\n",
    "        print(a[i])\n",
    "    i+=1\n",
    "    "
   ]
  },
  {
   "cell_type": "code",
   "execution_count": 23,
   "metadata": {},
   "outputs": [
    {
     "name": "stdout",
     "output_type": "stream",
     "text": [
      "value of i:  19\n"
     ]
    }
   ],
   "source": [
    "#pass\n",
    "s = 'cis310DataAnalytics'\n",
    "i = 0\n",
    "\n",
    "while i < len(s):\n",
    "    i+=1\n",
    "    pass\n",
    "\n",
    "print('value of i: ', i)"
   ]
  },
  {
   "cell_type": "code",
   "execution_count": 25,
   "metadata": {},
   "outputs": [
    {
     "name": "stdout",
     "output_type": "stream",
     "text": [
      "c\n",
      "i\n",
      "s\n",
      "3\n",
      "1\n",
      "0\n",
      "D\n",
      "t\n",
      "A\n",
      "n\n",
      "y\n",
      "t\n",
      "i\n",
      "c\n",
      "s\n"
     ]
    }
   ],
   "source": [
    "# print all letters but pass/skip a and l\n",
    "s = 'cis310DataAnalytics'\n",
    "i = 0\n",
    "\n",
    "while i < len(s):\n",
    "    if s[i] == 'a' or s[i] == 'l':\n",
    "        pass\n",
    "    else:\n",
    "        print(s[i])\n",
    "    i+=1"
   ]
  },
  {
   "cell_type": "code",
   "execution_count": 27,
   "metadata": {},
   "outputs": [
    {
     "name": "stdout",
     "output_type": "stream",
     "text": [
      "1\n",
      "2\n",
      "3\n",
      "4\n",
      "6\n",
      "7\n",
      "8\n",
      "9\n",
      "10\n"
     ]
    }
   ],
   "source": [
    "num = 0\n",
    "while num < 10:\n",
    "    num = num + 1\n",
    "    if num == 5:\n",
    "        pass\n",
    "    else:\n",
    "        print(num)\n",
    "        "
   ]
  },
  {
   "cell_type": "code",
   "execution_count": 28,
   "metadata": {},
   "outputs": [
    {
     "name": "stdout",
     "output_type": "stream",
     "text": [
      "1\n",
      "2\n",
      "3\n",
      "4\n"
     ]
    }
   ],
   "source": [
    "num = 0\n",
    "while num < 10:\n",
    "    num = num + 1\n",
    "    if num == 5:\n",
    "        break\n",
    "    \n",
    "    \n",
    "    print(num)\n",
    "        "
   ]
  },
  {
   "cell_type": "code",
   "execution_count": 29,
   "metadata": {},
   "outputs": [
    {
     "name": "stdout",
     "output_type": "stream",
     "text": [
      "c\n",
      "i\n",
      "s\n",
      "3\n",
      "1\n",
      "0\n",
      "D\n"
     ]
    }
   ],
   "source": [
    "s = 'cis310DataAnalytics'\n",
    "i = 0\n",
    "\n",
    "while i < len(s):\n",
    "    if s[i] == 'a' or s[i] == 'l':\n",
    "        break\n",
    "    \n",
    "    print(s[i])\n",
    "    i+=1"
   ]
  },
  {
   "cell_type": "code",
   "execution_count": 30,
   "metadata": {},
   "outputs": [
    {
     "name": "stdout",
     "output_type": "stream",
     "text": [
      "1\n",
      "2\n",
      "3\n",
      "4\n",
      "6\n",
      "7\n",
      "8\n",
      "9\n",
      "10\n"
     ]
    }
   ],
   "source": [
    "#continue\n",
    "num = 0\n",
    "while num < 10:\n",
    "    num = num + 1\n",
    "    if num == 5:\n",
    "        continue\n",
    "    print(num)"
   ]
  },
  {
   "cell_type": "code",
   "execution_count": 32,
   "metadata": {},
   "outputs": [
    {
     "name": "stdout",
     "output_type": "stream",
     "text": [
      "Enter a number (-1 to quit): 1\n",
      "Enter a number (-1 to quit): -1\n"
     ]
    }
   ],
   "source": [
    "#loop based on the user input\n",
    "\n",
    "a = int(input('Enter a number (-1 to quit): '))\n",
    "\n",
    "while a != -1:\n",
    "    a = int(input('Enter a number (-1 to quit): '))\n"
   ]
  },
  {
   "cell_type": "code",
   "execution_count": null,
   "metadata": {},
   "outputs": [],
   "source": []
  }
 ],
 "metadata": {
  "kernelspec": {
   "display_name": "Python 3.7 - default",
   "language": "python",
   "name": "py37_default"
  },
  "language_info": {
   "codemirror_mode": {
    "name": "ipython",
    "version": 3
   },
   "file_extension": ".py",
   "mimetype": "text/x-python",
   "name": "python",
   "nbconvert_exporter": "python",
   "pygments_lexer": "ipython3",
   "version": "3.7.7"
  }
 },
 "nbformat": 4,
 "nbformat_minor": 4
}
