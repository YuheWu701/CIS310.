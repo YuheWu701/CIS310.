{
 "cells": [
  {
   "cell_type": "code",
   "execution_count": 1,
   "metadata": {},
   "outputs": [],
   "source": [
    "x = [1,'second','third']"
   ]
  },
  {
   "cell_type": "code",
   "execution_count": 4,
   "metadata": {},
   "outputs": [
    {
     "name": "stdout",
     "output_type": "stream",
     "text": [
      "<class 'list'>\n"
     ]
    }
   ],
   "source": [
    "print(type(x[1:3]))"
   ]
  },
  {
   "cell_type": "code",
   "execution_count": 5,
   "metadata": {},
   "outputs": [],
   "source": [
    "x = \"10\""
   ]
  },
  {
   "cell_type": "code",
   "execution_count": 6,
   "metadata": {},
   "outputs": [
    {
     "data": {
      "text/plain": [
       "str"
      ]
     },
     "execution_count": 6,
     "metadata": {},
     "output_type": "execute_result"
    }
   ],
   "source": [
    "type(x)"
   ]
  },
  {
   "cell_type": "code",
   "execution_count": 7,
   "metadata": {},
   "outputs": [],
   "source": [
    "x = [10,15,20]"
   ]
  },
  {
   "cell_type": "code",
   "execution_count": 8,
   "metadata": {},
   "outputs": [],
   "source": [
    "x.append(5)"
   ]
  },
  {
   "cell_type": "code",
   "execution_count": 9,
   "metadata": {},
   "outputs": [
    {
     "name": "stdout",
     "output_type": "stream",
     "text": [
      "[10, 15, 20, 5]\n"
     ]
    }
   ],
   "source": [
    "print(x)"
   ]
  },
  {
   "cell_type": "code",
   "execution_count": 10,
   "metadata": {},
   "outputs": [],
   "source": [
    "x = 5.0//2.0"
   ]
  },
  {
   "cell_type": "code",
   "execution_count": 11,
   "metadata": {},
   "outputs": [
    {
     "name": "stdout",
     "output_type": "stream",
     "text": [
      "2.0\n"
     ]
    }
   ],
   "source": [
    "print(x)"
   ]
  },
  {
   "cell_type": "code",
   "execution_count": 12,
   "metadata": {},
   "outputs": [
    {
     "name": "stdout",
     "output_type": "stream",
     "text": [
      "False True True True\n"
     ]
    }
   ],
   "source": [
    "print(bool(0),bool(123),bool(3.5),bool(\"False\"))"
   ]
  },
  {
   "cell_type": "code",
   "execution_count": 13,
   "metadata": {},
   "outputs": [
    {
     "ename": "NameError",
     "evalue": "name 'd' is not defined",
     "output_type": "error",
     "traceback": [
      "\u001b[1;31m---------------------------------------------------------------------------\u001b[0m",
      "\u001b[1;31mNameError\u001b[0m                                 Traceback (most recent call last)",
      "\u001b[1;32m<ipython-input-13-617329cce062>\u001b[0m in \u001b[0;36m<module>\u001b[1;34m\u001b[0m\n\u001b[1;32m----> 1\u001b[1;33m \u001b[0md\u001b[0m\u001b[1;33m.\u001b[0m\u001b[0ms\u001b[0m \u001b[1;33m=\u001b[0m \u001b[1;34m\"'hello world'\"\u001b[0m\u001b[1;33m\u001b[0m\u001b[1;33m\u001b[0m\u001b[0m\n\u001b[0m",
      "\u001b[1;31mNameError\u001b[0m: name 'd' is not defined"
     ]
    }
   ],
   "source": [
    "d.s = \"'hello world'\""
   ]
  },
  {
   "cell_type": "code",
   "execution_count": 14,
   "metadata": {},
   "outputs": [
    {
     "ename": "NameError",
     "evalue": "name 'b' is not defined",
     "output_type": "error",
     "traceback": [
      "\u001b[1;31m---------------------------------------------------------------------------\u001b[0m",
      "\u001b[1;31mNameError\u001b[0m                                 Traceback (most recent call last)",
      "\u001b[1;32m<ipython-input-14-ec8b998641d6>\u001b[0m in \u001b[0;36m<module>\u001b[1;34m\u001b[0m\n\u001b[1;32m----> 1\u001b[1;33m \u001b[0mb\u001b[0m\u001b[1;33m.\u001b[0m\u001b[0ms\u001b[0m \u001b[1;33m=\u001b[0m \u001b[1;34m'hello'\u001b[0m\u001b[1;33m\u001b[0m\u001b[1;33m\u001b[0m\u001b[0m\n\u001b[0m",
      "\u001b[1;31mNameError\u001b[0m: name 'b' is not defined"
     ]
    }
   ],
   "source": [
    "b.s = 'hello'"
   ]
  },
  {
   "cell_type": "code",
   "execution_count": 15,
   "metadata": {},
   "outputs": [
    {
     "ename": "SyntaxError",
     "evalue": "invalid syntax (<ipython-input-15-fe4342e42961>, line 1)",
     "output_type": "error",
     "traceback": [
      "\u001b[1;36m  File \u001b[1;32m\"<ipython-input-15-fe4342e42961>\"\u001b[1;36m, line \u001b[1;32m1\u001b[0m\n\u001b[1;33m    s = str/9hello\u001b[0m\n\u001b[1;37m                 ^\u001b[0m\n\u001b[1;31mSyntaxError\u001b[0m\u001b[1;31m:\u001b[0m invalid syntax\n"
     ]
    }
   ],
   "source": [
    "s = str/9hello"
   ]
  },
  {
   "cell_type": "code",
   "execution_count": 16,
   "metadata": {},
   "outputs": [
    {
     "ename": "NameError",
     "evalue": "name 'hello' is not defined",
     "output_type": "error",
     "traceback": [
      "\u001b[1;31m---------------------------------------------------------------------------\u001b[0m",
      "\u001b[1;31mNameError\u001b[0m                                 Traceback (most recent call last)",
      "\u001b[1;32m<ipython-input-16-d20d4169d400>\u001b[0m in \u001b[0;36m<module>\u001b[1;34m\u001b[0m\n\u001b[1;32m----> 1\u001b[1;33m \u001b[0ms\u001b[0m \u001b[1;33m=\u001b[0m \u001b[0mstr\u001b[0m\u001b[1;33m(\u001b[0m\u001b[0mhello\u001b[0m\u001b[1;33m)\u001b[0m\u001b[1;33m\u001b[0m\u001b[1;33m\u001b[0m\u001b[0m\n\u001b[0m",
      "\u001b[1;31mNameError\u001b[0m: name 'hello' is not defined"
     ]
    }
   ],
   "source": [
    "s = str(hello)"
   ]
  },
  {
   "cell_type": "code",
   "execution_count": 17,
   "metadata": {},
   "outputs": [],
   "source": [
    "s = \"hello\""
   ]
  },
  {
   "cell_type": "code",
   "execution_count": 18,
   "metadata": {},
   "outputs": [],
   "source": [
    "x = [1,'second','third']"
   ]
  },
  {
   "cell_type": "code",
   "execution_count": 19,
   "metadata": {},
   "outputs": [
    {
     "name": "stdout",
     "output_type": "stream",
     "text": [
      "<class 'str'>\n"
     ]
    }
   ],
   "source": [
    "print(type(x[1]))"
   ]
  },
  {
   "cell_type": "code",
   "execution_count": 20,
   "metadata": {},
   "outputs": [
    {
     "data": {
      "text/plain": [
       "list"
      ]
     },
     "execution_count": 20,
     "metadata": {},
     "output_type": "execute_result"
    }
   ],
   "source": [
    "type([])"
   ]
  },
  {
   "cell_type": "code",
   "execution_count": 21,
   "metadata": {},
   "outputs": [],
   "source": [
    "p,q,r = 10,20,30"
   ]
  },
  {
   "cell_type": "code",
   "execution_count": 47,
   "metadata": {},
   "outputs": [
    {
     "name": "stdout",
     "output_type": "stream",
     "text": [
      "10 20 30\n"
     ]
    }
   ],
   "source": [
    "print(p,q,r)"
   ]
  },
  {
   "cell_type": "code",
   "execution_count": 24,
   "metadata": {},
   "outputs": [],
   "source": [
    "x = [3,4,5,'Hellp',8,9,5.5,\"World\"]"
   ]
  },
  {
   "cell_type": "code",
   "execution_count": 25,
   "metadata": {},
   "outputs": [
    {
     "data": {
      "text/plain": [
       "list"
      ]
     },
     "execution_count": 25,
     "metadata": {},
     "output_type": "execute_result"
    }
   ],
   "source": [
    "type(x)"
   ]
  },
  {
   "cell_type": "code",
   "execution_count": 26,
   "metadata": {},
   "outputs": [],
   "source": [
    "x = ['1st','3rd','4th','5th']"
   ]
  },
  {
   "cell_type": "code",
   "execution_count": 27,
   "metadata": {},
   "outputs": [],
   "source": [
    "x.insert(2,'2nd')"
   ]
  },
  {
   "cell_type": "code",
   "execution_count": 28,
   "metadata": {},
   "outputs": [
    {
     "data": {
      "text/plain": [
       "['1st', '3rd', '2nd', '4th', '5th']"
      ]
     },
     "execution_count": 28,
     "metadata": {},
     "output_type": "execute_result"
    }
   ],
   "source": [
    "x"
   ]
  },
  {
   "cell_type": "code",
   "execution_count": 29,
   "metadata": {},
   "outputs": [],
   "source": [
    "x = 2 + 18 / 2 * ( 6 - 3)"
   ]
  },
  {
   "cell_type": "code",
   "execution_count": 30,
   "metadata": {},
   "outputs": [
    {
     "data": {
      "text/plain": [
       "29.0"
      ]
     },
     "execution_count": 30,
     "metadata": {},
     "output_type": "execute_result"
    }
   ],
   "source": [
    "x"
   ]
  },
  {
   "cell_type": "code",
   "execution_count": 31,
   "metadata": {},
   "outputs": [],
   "source": [
    "x = [10,20]*3"
   ]
  },
  {
   "cell_type": "code",
   "execution_count": 32,
   "metadata": {},
   "outputs": [
    {
     "name": "stdout",
     "output_type": "stream",
     "text": [
      "[10, 20, 10, 20, 10, 20]\n"
     ]
    }
   ],
   "source": [
    "print(x)"
   ]
  },
  {
   "cell_type": "code",
   "execution_count": 33,
   "metadata": {},
   "outputs": [],
   "source": [
    "x = 5/2"
   ]
  },
  {
   "cell_type": "code",
   "execution_count": 34,
   "metadata": {},
   "outputs": [
    {
     "data": {
      "text/plain": [
       "2.5"
      ]
     },
     "execution_count": 34,
     "metadata": {},
     "output_type": "execute_result"
    }
   ],
   "source": [
    "x"
   ]
  },
  {
   "cell_type": "code",
   "execution_count": 35,
   "metadata": {},
   "outputs": [],
   "source": [
    "x = [20,40,60,80]"
   ]
  },
  {
   "cell_type": "code",
   "execution_count": 36,
   "metadata": {},
   "outputs": [],
   "source": [
    "y = [20,40,60,80]"
   ]
  },
  {
   "cell_type": "code",
   "execution_count": 37,
   "metadata": {},
   "outputs": [
    {
     "name": "stdout",
     "output_type": "stream",
     "text": [
      "True False\n"
     ]
    }
   ],
   "source": [
    "print(x ==y, x is y)"
   ]
  },
  {
   "cell_type": "code",
   "execution_count": 38,
   "metadata": {},
   "outputs": [],
   "source": [
    "x = \"james bond\""
   ]
  },
  {
   "cell_type": "code",
   "execution_count": 39,
   "metadata": {},
   "outputs": [
    {
     "name": "stdout",
     "output_type": "stream",
     "text": [
      "semaj\n"
     ]
    }
   ],
   "source": [
    "print(x[4::-1])"
   ]
  },
  {
   "cell_type": "code",
   "execution_count": 40,
   "metadata": {},
   "outputs": [
    {
     "data": {
      "text/plain": [
       "'s'"
      ]
     },
     "execution_count": 40,
     "metadata": {},
     "output_type": "execute_result"
    }
   ],
   "source": [
    "max(\"please help\")"
   ]
  },
  {
   "cell_type": "code",
   "execution_count": 41,
   "metadata": {},
   "outputs": [],
   "source": [
    "x = \"123\""
   ]
  },
  {
   "cell_type": "code",
   "execution_count": 42,
   "metadata": {},
   "outputs": [],
   "source": [
    "y = \"321\""
   ]
  },
  {
   "cell_type": "code",
   "execution_count": 43,
   "metadata": {},
   "outputs": [
    {
     "ename": "NameError",
     "evalue": "name 'a' is not defined",
     "output_type": "error",
     "traceback": [
      "\u001b[1;31m---------------------------------------------------------------------------\u001b[0m",
      "\u001b[1;31mNameError\u001b[0m                                 Traceback (most recent call last)",
      "\u001b[1;32m<ipython-input-43-d821eb4fd748>\u001b[0m in \u001b[0;36m<module>\u001b[1;34m\u001b[0m\n\u001b[1;32m----> 1\u001b[1;33m \u001b[0mz\u001b[0m \u001b[1;33m=\u001b[0m \u001b[0ma\u001b[0m\u001b[1;33m+\u001b[0m\u001b[0mb\u001b[0m\u001b[1;33m\u001b[0m\u001b[1;33m\u001b[0m\u001b[0m\n\u001b[0m",
      "\u001b[1;31mNameError\u001b[0m: name 'a' is not defined"
     ]
    }
   ],
   "source": [
    "z = a+b"
   ]
  },
  {
   "cell_type": "code",
   "execution_count": 44,
   "metadata": {},
   "outputs": [
    {
     "ename": "NameError",
     "evalue": "name 'c' is not defined",
     "output_type": "error",
     "traceback": [
      "\u001b[1;31m---------------------------------------------------------------------------\u001b[0m",
      "\u001b[1;31mNameError\u001b[0m                                 Traceback (most recent call last)",
      "\u001b[1;32m<ipython-input-44-1dd5973cae19>\u001b[0m in \u001b[0;36m<module>\u001b[1;34m\u001b[0m\n\u001b[1;32m----> 1\u001b[1;33m \u001b[0mprint\u001b[0m\u001b[1;33m(\u001b[0m\u001b[0mc\u001b[0m\u001b[1;33m)\u001b[0m\u001b[1;33m\u001b[0m\u001b[1;33m\u001b[0m\u001b[0m\n\u001b[0m",
      "\u001b[1;31mNameError\u001b[0m: name 'c' is not defined"
     ]
    }
   ],
   "source": [
    "print(c)"
   ]
  },
  {
   "cell_type": "code",
   "execution_count": 45,
   "metadata": {},
   "outputs": [],
   "source": [
    "x = (2)"
   ]
  },
  {
   "cell_type": "code",
   "execution_count": 46,
   "metadata": {},
   "outputs": [
    {
     "data": {
      "text/plain": [
       "int"
      ]
     },
     "execution_count": 46,
     "metadata": {},
     "output_type": "execute_result"
    }
   ],
   "source": [
    "type(x)"
   ]
  },
  {
   "cell_type": "code",
   "execution_count": null,
   "metadata": {},
   "outputs": [],
   "source": []
  },
  {
   "cell_type": "code",
   "execution_count": 1,
   "metadata": {},
   "outputs": [
    {
     "ename": "NameError",
     "evalue": "name 'null' is not defined",
     "output_type": "error",
     "traceback": [
      "\u001b[1;31m---------------------------------------------------------------------------\u001b[0m",
      "\u001b[1;31mNameError\u001b[0m                                 Traceback (most recent call last)",
      "\u001b[1;32m<ipython-input-1-75455b28ffcc>\u001b[0m in \u001b[0;36m<module>\u001b[1;34m\u001b[0m\n\u001b[0;32m     75\u001b[0m   {\n\u001b[0;32m     76\u001b[0m    \u001b[1;34m\"cell_type\"\u001b[0m\u001b[1;33m:\u001b[0m \u001b[1;34m\"code\"\u001b[0m\u001b[1;33m,\u001b[0m\u001b[1;33m\u001b[0m\u001b[1;33m\u001b[0m\u001b[0m\n\u001b[1;32m---> 77\u001b[1;33m    \u001b[1;34m\"execution_count\"\u001b[0m\u001b[1;33m:\u001b[0m \u001b[0mnull\u001b[0m\u001b[1;33m,\u001b[0m\u001b[1;33m\u001b[0m\u001b[1;33m\u001b[0m\u001b[0m\n\u001b[0m\u001b[0;32m     78\u001b[0m    \u001b[1;34m\"metadata\"\u001b[0m\u001b[1;33m:\u001b[0m \u001b[1;33m{\u001b[0m\u001b[1;33m}\u001b[0m\u001b[1;33m,\u001b[0m\u001b[1;33m\u001b[0m\u001b[1;33m\u001b[0m\u001b[0m\n\u001b[0;32m     79\u001b[0m    \u001b[1;34m\"outputs\"\u001b[0m\u001b[1;33m:\u001b[0m \u001b[1;33m[\u001b[0m\u001b[1;33m]\u001b[0m\u001b[1;33m,\u001b[0m\u001b[1;33m\u001b[0m\u001b[1;33m\u001b[0m\u001b[0m\n",
      "\u001b[1;31mNameError\u001b[0m: name 'null' is not defined"
     ]
    }
   ],
   "source": [
    "{\n",
    " \"cells\": [\n",
    "  {\n",
    "   \"cell_type\": \"markdown\",\n",
    "   \"metadata\": {},\n",
    "   \"source\": [\n",
    "    \"# Instructions:\\n\",\n",
    "    \"\\n\",\n",
    "    \"1) Rename this .ipynb file with your first and last name\\n\",\n",
    "    \"\\n\",\n",
    "    \"2) Complete the exam info form\\n\",\n",
    "    \"\\n\",\n",
    "    \"3) Answer all the questions\\n\",\n",
    "    \"\\n\",\n",
    "    \"4) Upload this file into Canvas as your submisison file\\n\",\n",
    "    \"\\n\",\n",
    "    \"**Do not upload/push this file into your GitHub account**\"\n",
    "   ]\n",
    "  },\n",
    "  {\n",
    "   \"cell_type\": \"markdown\",\n",
    "   \"metadata\": {},\n",
    "   \"source\": [\n",
    "    \"# Complete the file info form:\\n\",\n",
    "    \"\\n\",\n",
    "    \"Your Full Name: -----------------------\\n\",\n",
    "    \"\\n\",\n",
    "    \"Your CSU ID: --------------------------\\n\",\n",
    "    \"\\n\",\n",
    "    \"Date:---------------------------\\n\"\n",
    "   ]\n",
    "  },\n",
    "  {\n",
    "   \"cell_type\": \"markdown\",\n",
    "   \"metadata\": {},\n",
    "   \"source\": [\n",
    "    \"## Q1: \\n\",\n",
    "    \"Prompt the user for the number of cups of lemon juice, water, and agave nectar needed to make lemonade. Prompt the user to specify the number of servings the recipe yields. Output the ingredients and serving size. (Submit for 3 points).\\n\",\n",
    "    \"\\n\",\n",
    "    \"**Sample Input/Output**\\n\",\n",
    "    \"\\n\",\n",
    "    \"Enter amount of lemon juice (in cups):\\n\",\n",
    "    \"\\n\",\n",
    "    \"2\\n\",\n",
    "    \"\\n\",\n",
    "    \"Enter amount of water (in cups):\\n\",\n",
    "    \"\\n\",\n",
    "    \"16\\n\",\n",
    "    \"\\n\",\n",
    "    \"Enter amount of agave nectar (in cups):\\n\",\n",
    "    \"\\n\",\n",
    "    \"2.5\\n\",\n",
    "    \"\\n\",\n",
    "    \"How many servings does this make?\\n\",\n",
    "    \"\\n\",\n",
    "    \"6\\n\",\n",
    "    \"\\n\",\n",
    "    \"Lemonade ingredients - yields 6.00 servings\\n\",\n",
    "    \"\\n\",\n",
    "    \"2.00 cup(s) lemon juice\\n\",\n",
    "    \"\\n\",\n",
    "    \"16.00 cup(s) water\\n\",\n",
    "    \"\\n\",\n",
    "    \"2.50 cup(s) agave nectar\\n\",\n",
    "    \"\\n\",\n",
    "    \"**Hint:**\\n\",\n",
    "    \"\\n\",\n",
    "    \"- Output each floating-point value with two digits after the decimal point, which can be achieved as follows: print('{:.2f}'.format(your_value))\\n\",\n",
    "    \"\\n\",\n",
    "    \"- Use the built input() function to receive input from the user\\n\",\n",
    "    \"\\n\",\n",
    "    \"- Use either str.format or f-String method in the print statment to provide the desired output format\\n\"\n",
    "   ]\n",
    "  },\n",
    "  {\n",
    "   \"cell_type\": \"code\",\n",
    "   \"execution_count\": null,\n",
    "   \"metadata\": {},\n",
    "   \"outputs\": [],\n",
    "   \"source\": [\n",
    "    \"#Q1 Anaswer - complete the following code\\n\",\n",
    "    \"\\n\",\n",
    "    \"lemon_juice_cups = float(input('Enter amount of lemon juice (in cups):\\\\n'))\\n\",\n",
    "    \"\\n\",\n",
    "    \"# Finish reading other items into variables, then output the three ingrdients - water_cups, sugar_cups, serving_size\\n\",\n",
    "    \"   \\n\",\n",
    "    \"\\n\",\n",
    "    \"\\n\",\n",
    "    \"\\n\",\n",
    "    \"   \"\n",
    "   ]\n",
    "  },\n",
    "  {\n",
    "   \"cell_type\": \"markdown\",\n",
    "   \"metadata\": {},\n",
    "   \"source\": [\n",
    "    \"## Q2:\\n\",\n",
    "    \"\\n\",\n",
    "    \"Prompt the user for an automobile service type, the display the user input and the cost of service  (Submit for 3 points).\\n\",\n",
    "    \"\\n\",\n",
    "    \"The program should support the following services (all integers):\\n\",\n",
    "    \"\\n\",\n",
    "    \"- Oil change - $35\\n\",\n",
    "    \"\\n\",\n",
    "    \"- Tire rotation -- $19 \\n\",\n",
    "    \"\\n\",\n",
    "    \"- Car wash -- $7\\n\",\n",
    "    \"\\n\",\n",
    "    \"If the user enters a service that is not listed above, then output the following error message:\\n\",\n",
    "    \"\\n\",\n",
    "    \"- Error: Requested service is not recognized\\n\",\n",
    "    \"\\n\",\n",
    "    \"**Sample Input/Output**\\n\",\n",
    "    \"\\n\",\n",
    "    \"Enter desired auto service:\\n\",\n",
    "    \"\\n\",\n",
    "    \"Oil change\\n\",\n",
    "    \"\\n\",\n",
    "    \"You entered: Oil change\\n\",\n",
    "    \"\\n\",\n",
    "    \"Cost of oil change: $35\\n\",\n",
    "    \"\\n\",\n",
    "    \"**Hint:**\\n\",\n",
    "    \"\\n\",\n",
    "    \"- Use the if stament to identify the auto service type based on the service name\\n\",\n",
    "    \"\\n\",\n",
    "    \"- Use the built input() function to receive input from the user\\n\"\n",
    "   ]\n",
    "  },\n",
    "  {\n",
    "   \"cell_type\": \"code\",\n",
    "   \"execution_count\": null,\n",
    "   \"metadata\": {},\n",
    "   \"outputs\": [],\n",
    "   \"source\": [\n",
    "    \"#Q2 Answer - Complete the following code\\n\",\n",
    "    \"\\n\",\n",
    "    \"# Dictionary of service type and cost per service\\n\",\n",
    "    \"service_cost = {\\n\",\n",
    "    \"   'Oil change': 35,\\n\",\n",
    "    \"   'Tire rotation': 19,\\n\",\n",
    "    \"   'Car wash': 7\\n\",\n",
    "    \"}\\n\",\n",
    "    \"\\n\",\n",
    "    \"# Input and output the the required service choice - service_choice\\n\",\n",
    "    \"\\n\",\n",
    "    \"\\n\",\n",
    "    \"# Compute and output the service cost using the provided dictionary using if statement\\n\",\n",
    "    \"\\n\"\n",
    "   ]\n",
    "  },\n",
    "  {\n",
    "   \"cell_type\": \"markdown\",\n",
    "   \"metadata\": {},\n",
    "   \"source\": [\n",
    "    \"## Q3:\\n\",\n",
    "    \"\\n\",\n",
    "    \"Write a python code whose input is two integers. Output the first integer and subsequent increments of 5 as long as the value is less than or equal to the second integer (Submit for 4 points).\\n\",\n",
    "    \"\\n\",\n",
    "    \"**Sample Input/Output:**:\\n\",\n",
    "    \"\\n\",\n",
    "    \"Ex: If the input is:\\n\",\n",
    "    \"\\n\",\n",
    "    \"num1 = -15\\n\",\n",
    "    \"\\n\",\n",
    "    \"num2 = 10\\n\",\n",
    "    \"\\n\",\n",
    "    \"the output is:\\n\",\n",
    "    \"\\n\",\n",
    "    \"-15 -10 -5 0 5 10 \\n\",\n",
    "    \"\\n\",\n",
    "    \"*Ex: If the second integer is less than the first as in:\\n\",\n",
    "    \"\\n\",\n",
    "    \"num1 = 20\\n\",\n",
    "    \"\\n\",\n",
    "    \"num2 = 5\\n\",\n",
    "    \"\\n\",\n",
    "    \"the output is:\\n\",\n",
    "    \"\\n\",\n",
    "    \"Second integer can't be less than the first.\\n\",\n",
    "    \"\\n\",\n",
    "    \"\\n\",\n",
    "    \"**Hint:**\\n\",\n",
    "    \"\\n\",\n",
    "    \"- Use the built input() function to receive input from the user\\n\",\n",
    "    \"- Use the for loop to print all nubers beween num1 and num2\\n\",\n",
    "    \"- Use the built in range() method inside to for loop with appropriate start, end, and step values\\n\",\n",
    "    \"- Use the if stament to check if num2 is greater than num1\\n\",\n",
    "    \"\\n\"\n",
    "   ]\n",
    "  },\n",
    "  {\n",
    "   \"cell_type\": \"code\",\n",
    "   \"execution_count\": null,\n",
    "   \"metadata\": {},\n",
    "   \"outputs\": [],\n",
    "   \"source\": [\n",
    "    \"#Q3 Answer - Complete the following code\\n\",\n",
    "    \"\\n\",\n",
    "    \"#Input and output the value of num1 and num2\\n\",\n",
    "    \"\\n\",\n",
    "    \"# Use if-elsel statment to check that num2 < num1, if this true, output the appropriate message and stop\\n\",\n",
    "    \"# else, use for loop to output the first integer and subsequent increments of 5 as long as the value is less than or equal to the second integer\\n\",\n",
    "    \"# use the range() method to complete this task\\n\"\n",
    "   ]\n",
    "  },\n",
    "  {\n",
    "   \"cell_type\": \"markdown\",\n",
    "   \"metadata\": {},\n",
    "   \"source\": [\n",
    "    \"## Q4 \\n\",\n",
    "    \"\\n\",\n",
    "    \"Write a python code that calculates the cost of painting a wall, the cost depends on the number of gallons (and the paint color price) that are needed to cover the wall area (Submit for 5 points).\\n\",\n",
    "    \"\\n\",\n",
    "    \"**Sample Input/Output**\\n\",\n",
    "    \"\\n\",\n",
    "    \"Enter wall height (feet):\\n\",\n",
    "    \"\\n\",\n",
    "    \"12\\n\",\n",
    "    \"\\n\",\n",
    "    \"Enter wall width (feet):\\n\",\n",
    "    \"\\n\",\n",
    "    \"15\\n\",\n",
    "    \"\\n\",\n",
    "    \"Wall area: 180 square feet\\n\",\n",
    "    \"\\n\",\n",
    "    \"Paint needed: 0.51 gallons\\n\",\n",
    "    \"\\n\",\n",
    "    \"Cans needed: 1 can(s)\\n\",\n",
    "    \"\\n\",\n",
    "    \"\\n\",\n",
    "    \"Choose a color to paint the wall:\\n\",\n",
    "    \"\\n\",\n",
    "    \"red\\n\",\n",
    "    \"\\n\",\n",
    "    \"Cost of purchasing red paint: $35\\n\",\n",
    "    \"\\n\",\n",
    "    \"\\n\",\n",
    "    \"**Hint:**\\n\",\n",
    "    \"\\n\",\n",
    "    \"- Use the built input() function to receive input from the user\\n\",\n",
    "    \"\\n\",\n",
    "    \"\\n\",\n",
    "    \"\\n\",\n",
    "    \"\\n\",\n",
    "    \"\\n\"\n",
    "   ]\n",
    "  },\n",
    "  {\n",
    "   \"cell_type\": \"code\",\n",
    "   \"execution_count\": null,\n",
    "   \"metadata\": {},\n",
    "   \"outputs\": [],\n",
    "   \"source\": [\n",
    "    \"#Q4 Answer - Complete the following code \\n\",\n",
    "    \"\\n\",\n",
    "    \"import math\\n\",\n",
    "    \"\\n\",\n",
    "    \"# Dictionary of paint colors and cost per gallon\\n\",\n",
    "    \"paint_colors = {\\n\",\n",
    "    \"   'red': 35,\\n\",\n",
    "    \"   'blue': 25,\\n\",\n",
    "    \"   'green': 23\\n\",\n",
    "    \"}\\n\",\n",
    "    \"\\n\",\n",
    "    \"# Prompt user to input wall's width and height, wall_height and wall_width \\n\",\n",
    "    \"\\n\",\n",
    "    \"\\n\",\n",
    "    \"# Calculate and output wall area - wall_area\\n\",\n",
    "    \"\\n\",\n",
    "    \"\\n\",\n",
    "    \"   \\n\",\n",
    "    \"# Calculate and output the amount of paint in gallons needed to paint the wall _ gallons_needed\\n\",\n",
    "    \"#  Assume a gallon of paint covers 350 square feet. Store this value in a variable. Output the amount of paint needed using the %f conversion specifier.\\n\",\n",
    "    \"\\n\",\n",
    "    \"\\n\",\n",
    "    \"# Calculate and output the number of 1 gallon cans needed to paint the wall, rounded up to nearest integer - cans_needed\\n\",\n",
    "    \"# Use a math function of math.ceil() to round up to the nearest gallon. \\n\",\n",
    "    \"\\n\",\n",
    "    \"\\n\",\n",
    "    \"\\n\",\n",
    "    \"# Calculate and output the total cost of paint can needed depending on color - wall_color\\n\",\n",
    "    \"# Use a dictionary to associate each paint color with its respective cost. \\n\",\n",
    "    \"#Red paint costs $35 per gallon can, blue paint costs $25 per gallon can, and green paint costs $23 per gallon can. \\n\",\n",
    "    \"\\n\"\n",
    "   ]\n",
    "  }\n",
    " ],\n",
    " \"metadata\": {\n",
    "  \"kernelspec\": {\n",
    "   \"display_name\": \"Python 3\",\n",
    "   \"language\": \"python\",\n",
    "   \"name\": \"python3\"\n",
    "  },\n",
    "  \"language_info\": {\n",
    "   \"codemirror_mode\": {\n",
    "    \"name\": \"ipython\",\n",
    "    \"version\": 3\n",
    "   },\n",
    "   \"file_extension\": \".py\",\n",
    "   \"mimetype\": \"text/x-python\",\n",
    "   \"name\": \"python\",\n",
    "   \"nbconvert_exporter\": \"python\",\n",
    "   \"pygments_lexer\": \"ipython3\",\n",
    "   \"version\": \"3.6.5\"\n",
    "  }\n",
    " },\n",
    " \"nbformat\": 4,\n",
    " \"nbformat_minor\": 2\n",
    "}\n"
   ]
  },
  {
   "cell_type": "code",
   "execution_count": null,
   "metadata": {},
   "outputs": [],
   "source": []
  }
 ],
 "metadata": {
  "kernelspec": {
   "display_name": "Python 3.7 - default",
   "language": "python",
   "name": "py37_default"
  },
  "language_info": {
   "codemirror_mode": {
    "name": "ipython",
    "version": 3
   },
   "file_extension": ".py",
   "mimetype": "text/x-python",
   "name": "python",
   "nbconvert_exporter": "python",
   "pygments_lexer": "ipython3",
   "version": "3.7.7"
  }
 },
 "nbformat": 4,
 "nbformat_minor": 4
}
