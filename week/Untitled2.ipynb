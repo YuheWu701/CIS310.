{
 "cells": [
  {
   "cell_type": "code",
   "execution_count": 9,
   "metadata": {},
   "outputs": [
    {
     "name": "stdout",
     "output_type": "stream",
     "text": [
      "5\n",
      "7\n",
      "7\n"
     ]
    }
   ],
   "source": [
    "import math\n",
    "\n",
    "def max_magnitude(input1, input2):      # Define your function here.\n",
    "    if input1 < 0 and input2 <0:\n",
    "        return min(input1, input2)\n",
    "    else:\n",
    "        return max(input1, input2)\n",
    "\n",
    "input1 = int(input())\n",
    "input2 = int(input())\n",
    "\n",
    "\n",
    "print(max_magnitude(input1, input2))"
   ]
  },
  {
   "cell_type": "code",
   "execution_count": 6,
   "metadata": {},
   "outputs": [
    {
     "name": "stdout",
     "output_type": "stream",
     "text": [
      "3.1\n",
      "3\n"
     ]
    }
   ],
   "source": [
    "def convert(d):\n",
    "    new = int(d)\n",
    "    return new\n",
    "    \n",
    "d = float(input())\n",
    "\n",
    "print(convert(d))"
   ]
  },
  {
   "cell_type": "code",
   "execution_count": null,
   "metadata": {},
   "outputs": [],
   "source": []
  }
 ],
 "metadata": {
  "kernelspec": {
   "display_name": "Python 3.7 - default",
   "language": "python",
   "name": "py37_default"
  },
  "language_info": {
   "codemirror_mode": {
    "name": "ipython",
    "version": 3
   },
   "file_extension": ".py",
   "mimetype": "text/x-python",
   "name": "python",
   "nbconvert_exporter": "python",
   "pygments_lexer": "ipython3",
   "version": "3.7.7"
  }
 },
 "nbformat": 4,
 "nbformat_minor": 4
}
